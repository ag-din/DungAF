{
 "cells": [
  {
   "cell_type": "markdown",
   "metadata": {},
   "source": [
    "# Dung Package V 1.0 (2020)\n",
    "### Developed by Agustina Dinamarca\n",
    "### agustinadinamarca@gmail.com"
   ]
  },
  {
   "cell_type": "markdown",
   "metadata": {},
   "source": [
    "## Usage Example"
   ]
  },
  {
   "cell_type": "code",
   "execution_count": 1,
   "metadata": {},
   "outputs": [],
   "source": [
    "from Dung import *"
   ]
  },
  {
   "cell_type": "code",
   "execution_count": 2,
   "metadata": {},
   "outputs": [],
   "source": [
    "arguments = {\"a\", \"b\", \"c\", \"d\", \"e\"}\n",
    "relations = {(\"a\", \"b\"), (\"d\", \"e\")}\n",
    "\n",
    "AF = Dung(arguments, relations)"
   ]
  },
  {
   "cell_type": "markdown",
   "metadata": {},
   "source": [
    "#### Conflic-Free Subsets"
   ]
  },
  {
   "cell_type": "code",
   "execution_count": 3,
   "metadata": {},
   "outputs": [
    {
     "data": {
      "text/plain": [
       "{(),\n",
       " ('a',),\n",
       " ('a', 'd'),\n",
       " ('a', 'e'),\n",
       " ('b',),\n",
       " ('b', 'd'),\n",
       " ('b', 'e'),\n",
       " ('c',),\n",
       " ('c', 'a'),\n",
       " ('c', 'a', 'd'),\n",
       " ('c', 'a', 'e'),\n",
       " ('c', 'b'),\n",
       " ('c', 'b', 'd'),\n",
       " ('c', 'b', 'e'),\n",
       " ('c', 'd'),\n",
       " ('c', 'e'),\n",
       " ('d',),\n",
       " ('e',)}"
      ]
     },
     "execution_count": 3,
     "metadata": {},
     "output_type": "execute_result"
    }
   ],
   "source": [
    "AF.compute_cfs()"
   ]
  },
  {
   "cell_type": "markdown",
   "metadata": {},
   "source": [
    "#### Admisible Subsets"
   ]
  },
  {
   "cell_type": "code",
   "execution_count": 4,
   "metadata": {},
   "outputs": [
    {
     "data": {
      "text/plain": [
       "[{'a'},\n",
       " {'a', 'c'},\n",
       " {'d'},\n",
       " {'c'},\n",
       " {'c', 'd'},\n",
       " set(),\n",
       " {'a', 'c', 'd'},\n",
       " {'a', 'd'}]"
      ]
     },
     "execution_count": 4,
     "metadata": {},
     "output_type": "execute_result"
    }
   ],
   "source": [
    "AF.compute_admissibility()"
   ]
  },
  {
   "cell_type": "markdown",
   "metadata": {},
   "source": [
    "#### Acceptability Semantics: Stable, Grounded, Preferred and Complete"
   ]
  },
  {
   "cell_type": "code",
   "execution_count": 5,
   "metadata": {},
   "outputs": [],
   "source": [
    "st = AF.semantics.compute_stable_extensions()\n",
    "gr = AF.semantics.compute_grounded_extensions()\n",
    "pf = AF.semantics.compute_preferred_extensions()\n",
    "cp = AF.semantics.compute_complete_extensions()"
   ]
  },
  {
   "cell_type": "code",
   "execution_count": 6,
   "metadata": {},
   "outputs": [
    {
     "data": {
      "text/plain": [
       "[{'a', 'c', 'd'}]"
      ]
     },
     "execution_count": 6,
     "metadata": {},
     "output_type": "execute_result"
    }
   ],
   "source": [
    "# Obtengo extensiones\n",
    "pf.get_Extensions()"
   ]
  },
  {
   "cell_type": "code",
   "execution_count": 7,
   "metadata": {},
   "outputs": [
    {
     "data": {
      "text/plain": [
       "{'a', 'c', 'd'}"
      ]
     },
     "execution_count": 7,
     "metadata": {},
     "output_type": "execute_result"
    }
   ],
   "source": [
    "# Argumentos esépticamente aceptados\n",
    "pf.get_SkepticallyAcceptedArguments()"
   ]
  },
  {
   "cell_type": "code",
   "execution_count": 8,
   "metadata": {},
   "outputs": [
    {
     "data": {
      "text/plain": [
       "{'a', 'c', 'd'}"
      ]
     },
     "execution_count": 8,
     "metadata": {},
     "output_type": "execute_result"
    }
   ],
   "source": [
    "# Argumentos crédulamente aceptados\n",
    "pf.get_CredulouslyAcceptedArguments()"
   ]
  },
  {
   "cell_type": "code",
   "execution_count": 9,
   "metadata": {},
   "outputs": [
    {
     "data": {
      "text/plain": [
       "{'b', 'e'}"
      ]
     },
     "execution_count": 9,
     "metadata": {},
     "output_type": "execute_result"
    }
   ],
   "source": [
    "# Argumentos rechazados\n",
    "pf.get_RejectedArguments()"
   ]
  },
  {
   "cell_type": "markdown",
   "metadata": {},
   "source": [
    "## Some interesting examples"
   ]
  },
  {
   "cell_type": "markdown",
   "metadata": {},
   "source": [
    "![img1](images/img1.png)"
   ]
  },
  {
   "cell_type": "code",
   "execution_count": 10,
   "metadata": {},
   "outputs": [
    {
     "name": "stdout",
     "output_type": "stream",
     "text": [
      "Conflic-Free Subsets:\n",
      " {(), ('a',), ('b',), ('c', 'a'), ('c',)}\n",
      "Admissible Subsets:\n",
      " [set(), {'a'}, {'c', 'a'}]\n",
      "Stable Extensions:\n",
      " [('c', 'a')]\n",
      "Grounded Extensions:\n",
      " [{'c', 'a'}]\n",
      "Preferred Extensions:\n",
      " [{'c', 'a'}]\n",
      "Complete Extensions:\n",
      " [{'c', 'a'}]\n"
     ]
    }
   ],
   "source": [
    "arguments = {\"a\", \"b\", \"c\"}\n",
    "relations = {(\"a\", \"b\"), (\"b\", \"c\")}\n",
    "\n",
    "AF = Dung(arguments, relations)\n",
    "\n",
    "print(\"Conflic-Free Subsets:\\n\", AF.compute_cfs())\n",
    "\n",
    "print(\"Admissible Subsets:\\n\", AF.compute_admissibility())\n",
    "\n",
    "st = AF.semantics.compute_stable_extensions()\n",
    "gr = AF.semantics.compute_grounded_extensions()\n",
    "pf = AF.semantics.compute_preferred_extensions()\n",
    "cp = AF.semantics.compute_complete_extensions()\n",
    "\n",
    "print(\"Stable Extensions:\\n\", st.get_Extensions())\n",
    "print(\"Grounded Extensions:\\n\", gr.get_Extensions())\n",
    "print(\"Preferred Extensions:\\n\", pf.get_Extensions())\n",
    "print(\"Complete Extensions:\\n\", cp.get_Extensions())"
   ]
  },
  {
   "cell_type": "markdown",
   "metadata": {},
   "source": [
    "![img2](images/img2.png)"
   ]
  },
  {
   "cell_type": "code",
   "execution_count": 11,
   "metadata": {},
   "outputs": [
    {
     "name": "stdout",
     "output_type": "stream",
     "text": [
      "Conflic-Free Subsets:\n",
      " {(), ('a',), ('b',)}\n",
      "Admissible Subsets:\n",
      " [set(), {'a'}, {'b'}]\n",
      "Stable Extensions:\n",
      " [('a',), ('b',)]\n",
      "Grounded Extensions:\n",
      " [set()]\n",
      "Preferred Extensions:\n",
      " [{'a'}, {'b'}]\n",
      "Complete Extensions:\n",
      " [set(), {'a'}, {'b'}]\n"
     ]
    }
   ],
   "source": [
    "arguments = {\"a\", \"b\"}\n",
    "relations = {(\"a\", \"b\"), (\"b\", \"a\")}\n",
    "\n",
    "AF = Dung(arguments, relations)\n",
    "\n",
    "print(\"Conflic-Free Subsets:\\n\", AF.compute_cfs())\n",
    "\n",
    "print(\"Admissible Subsets:\\n\", AF.compute_admissibility())\n",
    "\n",
    "st = AF.semantics.compute_stable_extensions()\n",
    "gr = AF.semantics.compute_grounded_extensions()\n",
    "pf = AF.semantics.compute_preferred_extensions()\n",
    "cp = AF.semantics.compute_complete_extensions()\n",
    "\n",
    "print(\"Stable Extensions:\\n\", st.get_Extensions())\n",
    "print(\"Grounded Extensions:\\n\", gr.get_Extensions())\n",
    "print(\"Preferred Extensions:\\n\", pf.get_Extensions())\n",
    "print(\"Complete Extensions:\\n\", cp.get_Extensions())"
   ]
  },
  {
   "cell_type": "markdown",
   "metadata": {},
   "source": [
    "![img3](images/img3.png)"
   ]
  },
  {
   "cell_type": "code",
   "execution_count": 12,
   "metadata": {},
   "outputs": [
    {
     "name": "stdout",
     "output_type": "stream",
     "text": [
      "Conflic-Free Subsets:\n",
      " {('a',), ('b',), ('c', 'b'), ('c', 'a'), ('c',), ('d',), (), ('b', 'd'), ('a', 'd')}\n",
      "Admissible Subsets:\n",
      " [{'a'}, {'c', 'a'}, {'c'}, {'d'}, set(), {'a', 'd'}]\n",
      "Stable Extensions:\n",
      " [('c', 'a'), ('a', 'd')]\n",
      "Grounded Extensions:\n",
      " [{'a'}]\n",
      "Preferred Extensions:\n",
      " [{'c', 'a'}, {'a', 'd'}]\n",
      "Complete Extensions:\n",
      " [{'a'}, {'c', 'a'}, {'a', 'd'}]\n"
     ]
    }
   ],
   "source": [
    "arguments = {\"a\", \"b\", \"c\", \"d\"}\n",
    "relations = {(\"a\", \"b\"), (\"c\", \"d\"), (\"d\", \"c\")}\n",
    "\n",
    "AF = Dung(arguments, relations)\n",
    "\n",
    "print(\"Conflic-Free Subsets:\\n\", AF.compute_cfs())\n",
    "\n",
    "print(\"Admissible Subsets:\\n\", AF.compute_admissibility())\n",
    "\n",
    "st = AF.semantics.compute_stable_extensions()\n",
    "gr = AF.semantics.compute_grounded_extensions()\n",
    "pf = AF.semantics.compute_preferred_extensions()\n",
    "cp = AF.semantics.compute_complete_extensions()\n",
    "\n",
    "print(\"Stable Extensions:\\n\", st.get_Extensions())\n",
    "print(\"Grounded Extensions:\\n\", gr.get_Extensions())\n",
    "print(\"Preferred Extensions:\\n\", pf.get_Extensions())\n",
    "print(\"Complete Extensions:\\n\", cp.get_Extensions())"
   ]
  },
  {
   "cell_type": "markdown",
   "metadata": {},
   "source": [
    "![img4](images/img4.png)"
   ]
  },
  {
   "cell_type": "code",
   "execution_count": 13,
   "metadata": {},
   "outputs": [
    {
     "name": "stdout",
     "output_type": "stream",
     "text": [
      "Conflic-Free Subsets:\n",
      " {('d',), (), ('b', 'd'), ('a',), ('b',), ('c',), ('a', 'd')}\n",
      "Admissible Subsets:\n",
      " [set(), {'b', 'd'}, {'a'}, {'b'}, {'a', 'd'}]\n",
      "Stable Extensions:\n",
      " [('b', 'd'), ('a', 'd')]\n",
      "Grounded Extensions:\n",
      " [set()]\n",
      "Preferred Extensions:\n",
      " [{'b', 'd'}, {'a', 'd'}]\n",
      "Complete Extensions:\n",
      " [set(), {'b', 'd'}, {'a', 'd'}]\n"
     ]
    }
   ],
   "source": [
    "arguments = {\"a\", \"b\", \"c\", \"d\"}\n",
    "relations = {(\"a\", \"b\"), (\"b\", \"a\"), (\"a\", \"c\"), (\"b\", \"c\"), (\"c\", \"d\")}\n",
    "\n",
    "AF = Dung(arguments, relations)\n",
    "\n",
    "print(\"Conflic-Free Subsets:\\n\", AF.compute_cfs())\n",
    "\n",
    "print(\"Admissible Subsets:\\n\", AF.compute_admissibility())\n",
    "\n",
    "st = AF.semantics.compute_stable_extensions()\n",
    "gr = AF.semantics.compute_grounded_extensions()\n",
    "pf = AF.semantics.compute_preferred_extensions()\n",
    "cp = AF.semantics.compute_complete_extensions()\n",
    "\n",
    "print(\"Stable Extensions:\\n\", st.get_Extensions())\n",
    "print(\"Grounded Extensions:\\n\", gr.get_Extensions())\n",
    "print(\"Preferred Extensions:\\n\", pf.get_Extensions())\n",
    "print(\"Complete Extensions:\\n\", cp.get_Extensions())"
   ]
  },
  {
   "cell_type": "markdown",
   "metadata": {},
   "source": [
    "![img5](images/img5.png)"
   ]
  },
  {
   "cell_type": "code",
   "execution_count": 14,
   "metadata": {},
   "outputs": [
    {
     "name": "stdout",
     "output_type": "stream",
     "text": [
      "Conflic-Free Subsets:\n",
      " {('c',), (), ('a',), ('b',)}\n",
      "Admissible Subsets:\n",
      " [set()]\n",
      "Stable Extensions:\n",
      " []\n",
      "Grounded Extensions:\n",
      " [set()]\n",
      "Preferred Extensions:\n",
      " [set()]\n",
      "Complete Extensions:\n",
      " [set()]\n"
     ]
    }
   ],
   "source": [
    "arguments = {\"a\", \"b\", \"c\"}\n",
    "relations = {(\"a\", \"b\"), (\"b\", \"c\"), (\"c\", \"a\")}\n",
    "\n",
    "AF = Dung(arguments, relations)\n",
    "\n",
    "print(\"Conflic-Free Subsets:\\n\", AF.compute_cfs())\n",
    "\n",
    "print(\"Admissible Subsets:\\n\", AF.compute_admissibility())\n",
    "\n",
    "st = AF.semantics.compute_stable_extensions()\n",
    "gr = AF.semantics.compute_grounded_extensions()\n",
    "pf = AF.semantics.compute_preferred_extensions()\n",
    "cp = AF.semantics.compute_complete_extensions()\n",
    "\n",
    "print(\"Stable Extensions:\\n\", st.get_Extensions())\n",
    "print(\"Grounded Extensions:\\n\", gr.get_Extensions())\n",
    "print(\"Preferred Extensions:\\n\", pf.get_Extensions())\n",
    "print(\"Complete Extensions:\\n\", cp.get_Extensions())"
   ]
  },
  {
   "cell_type": "markdown",
   "metadata": {},
   "source": [
    "![img6](images/img6.png)"
   ]
  },
  {
   "cell_type": "code",
   "execution_count": 15,
   "metadata": {},
   "outputs": [
    {
     "name": "stdout",
     "output_type": "stream",
     "text": [
      "Conflic-Free Subsets:\n",
      " {('b',), ('a',), ('e',), ('a', 'e'), ('c', 'a'), ('c',), ('d',), (), ('b', 'd'), ('b', 'e'), ('a', 'd')}\n",
      "Admissible Subsets:\n",
      " [{'b'}, {'a'}, set(), {'b', 'd'}]\n",
      "Stable Extensions:\n",
      " [('b', 'd')]\n",
      "Grounded Extensions:\n",
      " [set()]\n",
      "Preferred Extensions:\n",
      " [{'b', 'd'}]\n",
      "Complete Extensions:\n",
      " [{'a'}, set(), {'b', 'd'}]\n"
     ]
    }
   ],
   "source": [
    "arguments = {\"a\", \"b\", \"c\", \"d\", \"e\"}\n",
    "relations = {(\"a\", \"b\"), (\"b\", \"a\"), (\"b\", \"c\"), (\"c\", \"d\"), (\"d\", \"e\"), (\"e\", \"c\")}\n",
    "\n",
    "AF = Dung(arguments, relations)\n",
    "\n",
    "print(\"Conflic-Free Subsets:\\n\", AF.compute_cfs())\n",
    "\n",
    "print(\"Admissible Subsets:\\n\", AF.compute_admissibility())\n",
    "\n",
    "st = AF.semantics.compute_stable_extensions()\n",
    "gr = AF.semantics.compute_grounded_extensions()\n",
    "pf = AF.semantics.compute_preferred_extensions()\n",
    "cp = AF.semantics.compute_complete_extensions()\n",
    "\n",
    "print(\"Stable Extensions:\\n\", st.get_Extensions())\n",
    "print(\"Grounded Extensions:\\n\", gr.get_Extensions())\n",
    "print(\"Preferred Extensions:\\n\", pf.get_Extensions())\n",
    "print(\"Complete Extensions:\\n\", cp.get_Extensions())"
   ]
  },
  {
   "cell_type": "markdown",
   "metadata": {},
   "source": [
    "![img7](images/img7.png)"
   ]
  },
  {
   "cell_type": "code",
   "execution_count": 16,
   "metadata": {},
   "outputs": [
    {
     "name": "stdout",
     "output_type": "stream",
     "text": [
      "Conflic-Free Subsets:\n",
      " {('d',), (), ('a',), ('b',), ('c',)}\n",
      "Admissible Subsets:\n",
      " [set()]\n",
      "Stable Extensions:\n",
      " []\n",
      "Grounded Extensions:\n",
      " [set()]\n",
      "Preferred Extensions:\n",
      " [set()]\n",
      "Complete Extensions:\n",
      " [set()]\n"
     ]
    }
   ],
   "source": [
    "arguments = {\"a\", \"b\", \"c\", \"d\"}\n",
    "relations = {(\"a\", \"b\"), (\"b\", \"c\"), (\"c\", \"a\"), (\"c\", \"d\"), (\"b\", \"d\"), (\"a\", \"d\")}\n",
    "\n",
    "AF = Dung(arguments, relations)\n",
    "\n",
    "print(\"Conflic-Free Subsets:\\n\", AF.compute_cfs())\n",
    "\n",
    "print(\"Admissible Subsets:\\n\", AF.compute_admissibility())\n",
    "\n",
    "st = AF.semantics.compute_stable_extensions()\n",
    "gr = AF.semantics.compute_grounded_extensions()\n",
    "pf = AF.semantics.compute_preferred_extensions()\n",
    "cp = AF.semantics.compute_complete_extensions()\n",
    "\n",
    "print(\"Stable Extensions:\\n\", st.get_Extensions())\n",
    "print(\"Grounded Extensions:\\n\", gr.get_Extensions())\n",
    "print(\"Preferred Extensions:\\n\", pf.get_Extensions())\n",
    "print(\"Complete Extensions:\\n\", cp.get_Extensions())"
   ]
  },
  {
   "cell_type": "code",
   "execution_count": null,
   "metadata": {},
   "outputs": [],
   "source": []
  }
 ],
 "metadata": {
  "kernelspec": {
   "display_name": "Python 3",
   "language": "python",
   "name": "python3"
  },
  "language_info": {
   "codemirror_mode": {
    "name": "ipython",
    "version": 3
   },
   "file_extension": ".py",
   "mimetype": "text/x-python",
   "name": "python",
   "nbconvert_exporter": "python",
   "pygments_lexer": "ipython3",
   "version": "3.6.9"
  }
 },
 "nbformat": 4,
 "nbformat_minor": 4
}
